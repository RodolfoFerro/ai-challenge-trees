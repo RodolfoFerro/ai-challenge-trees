{
 "cells": [
  {
   "cell_type": "code",
   "execution_count": 63,
   "metadata": {},
   "outputs": [],
   "source": [
    "import json\n",
    "import os\n",
    "from pycocotools.coco import COCO\n",
    "from shutil import copyfile"
   ]
  },
  {
   "cell_type": "code",
   "execution_count": 26,
   "metadata": {},
   "outputs": [],
   "source": [
    "TREE_DIR = os.path.join(ROOT_DIR, os.getcwd(), 'datasets','trees')"
   ]
  },
  {
   "cell_type": "markdown",
   "metadata": {},
   "source": [
    "# merge tree labels"
   ]
  },
  {
   "cell_type": "code",
   "execution_count": 24,
   "metadata": {},
   "outputs": [],
   "source": [
    "with open(os.path.join(TREE_DIR, 'all_data', 'coco_annotations.json')) as json_file:  \n",
    "    tree_data = json.load(json_file)"
   ]
  },
  {
   "cell_type": "code",
   "execution_count": 25,
   "metadata": {},
   "outputs": [
    {
     "data": {
      "text/plain": [
       "[{'supercategory': 'Trees1', 'id': 1, 'name': 'Trees1'},\n",
       " {'supercategory': 'Not trees 1', 'id': 2, 'name': 'Not trees 1'},\n",
       " {'supercategory': 'Trees2', 'id': 3, 'name': 'Trees2'},\n",
       " {'supercategory': 'Not trees 2', 'id': 4, 'name': 'Not trees 2'}]"
      ]
     },
     "execution_count": 25,
     "metadata": {},
     "output_type": "execute_result"
    }
   ],
   "source": [
    "tree_data['categories']"
   ]
  },
  {
   "cell_type": "code",
   "execution_count": 11,
   "metadata": {},
   "outputs": [],
   "source": [
    "tree_data['categories'] = [{'supercategory': 'Trees', 'id': 1, 'name': 'Trees'},\n",
    "                           {'supercategory': 'Not Trees', 'id': 2, 'name': 'Not Trees'}]"
   ]
  },
  {
   "cell_type": "code",
   "execution_count": 12,
   "metadata": {},
   "outputs": [],
   "source": [
    "for ann in tree_data['annotations']:\n",
    "    if ann['category_id'] == 3:\n",
    "        ann['category_id'] = 1\n",
    "    elif ann['category_id'] == 4:\n",
    "        ann['category_id'] = 2"
   ]
  },
  {
   "cell_type": "code",
   "execution_count": null,
   "metadata": {},
   "outputs": [],
   "source": [
    "with open(os.path.join(TREE_DIR, 'all_data', 'clean_coco_annotations.json'), 'w') as outfile:\n",
    "    json.dump(tree_data, outfile)"
   ]
  },
  {
   "cell_type": "markdown",
   "metadata": {},
   "source": [
    "# download images"
   ]
  },
  {
   "cell_type": "code",
   "execution_count": null,
   "metadata": {},
   "outputs": [],
   "source": [
    "import requests\n",
    "\n",
    "coco = COCO(\"{}/{}/clean_coco_annotations.json\".format(TREE_DIR, 'all_data'))\n",
    "\n",
    "save_dir = os.path.join(TREE_DIR, 'all_data')\n",
    "\n",
    "for img_id, content in coco.imgs.items():\n",
    "    img_data = requests.get(content['file_name']).content\n",
    "    with open(os.path.join(save_dir, f'{img_id}.jpg'), 'wb') as handler:\n",
    "        handler.write(img_data)"
   ]
  },
  {
   "cell_type": "markdown",
   "metadata": {},
   "source": [
    "# update filename for coco"
   ]
  },
  {
   "cell_type": "code",
   "execution_count": 13,
   "metadata": {},
   "outputs": [],
   "source": [
    "with open(os.path.join(TREE_DIR, 'all_data', 'clean_coco_annotations.json')) as json_file:  \n",
    "    clean_tree_data = json.load(json_file)"
   ]
  },
  {
   "cell_type": "code",
   "execution_count": 17,
   "metadata": {},
   "outputs": [],
   "source": [
    "for img in clean_tree_data['images']:\n",
    "    img['file_name'] = img['id'] + '.jpg'"
   ]
  },
  {
   "cell_type": "code",
   "execution_count": 19,
   "metadata": {},
   "outputs": [],
   "source": [
    "with open(os.path.join(TREE_DIR, 'all_data', 'clean_coco_annotations.json'), 'w') as outfile:\n",
    "    json.dump(clean_tree_data, outfile)"
   ]
  },
  {
   "cell_type": "markdown",
   "metadata": {},
   "source": [
    "# Split to train and validation"
   ]
  },
  {
   "cell_type": "code",
   "execution_count": 31,
   "metadata": {},
   "outputs": [],
   "source": [
    "train_pct = .90\n",
    "val_pct = 1 - train_pct\n",
    "all_images = [f for f in os.listdir(os.path.join(TREE_DIR, 'all_data')) if f.endswith('jpg')]"
   ]
  },
  {
   "cell_type": "code",
   "execution_count": 59,
   "metadata": {},
   "outputs": [],
   "source": [
    "train_num = round(len(all_images) * train_pct)\n",
    "train_imgs = all_images[:train_num]\n",
    "val_imgs = [img for img in all_images if img not in train_imgs]"
   ]
  },
  {
   "cell_type": "code",
   "execution_count": 41,
   "metadata": {},
   "outputs": [],
   "source": [
    "with open(os.path.join(TREE_DIR, 'all_data', 'clean_coco_annotations.json')) as json_file:  \n",
    "    annotation = json.load(json_file)"
   ]
  },
  {
   "cell_type": "code",
   "execution_count": 49,
   "metadata": {},
   "outputs": [],
   "source": [
    "train_annotation = annotation.copy()\n",
    "val_annotation = annotation.copy()"
   ]
  },
  {
   "cell_type": "code",
   "execution_count": 56,
   "metadata": {},
   "outputs": [],
   "source": [
    "train_annotation['images'] = [info for info in train_annotation['images'] if info['file_name'] in train_imgs]\n",
    "train_annotation['annotations'] = [info for info in train_annotation['annotations'] if info['image_id'] + '.jpg' in train_imgs]\n",
    "\n",
    "val_annotation['images'] = [info for info in val_annotation['images'] if info['file_name'] in val_imgs]\n",
    "val_annotation['annotations'] = [info for info in val_annotation['annotations'] if info['image_id'] + '.jpg' in val_imgs]\n"
   ]
  },
  {
   "cell_type": "code",
   "execution_count": 65,
   "metadata": {},
   "outputs": [],
   "source": [
    "# write the split files out\n",
    "train_dir = os.path.join(TREE_DIR,'train')\n",
    "val_dir = os.path.join(TREE_DIR,'val')"
   ]
  },
  {
   "cell_type": "code",
   "execution_count": 67,
   "metadata": {},
   "outputs": [],
   "source": [
    "for img in train_imgs:\n",
    "    src = os.path.join(TREE_DIR, 'all_data', img)\n",
    "    copyfile(src, os.path.join(train_dir, img))\n",
    "\n",
    "with open(os.path.join(TREE_DIR, 'train', 'coco_annotations.json'), 'w') as outfile:\n",
    "    json.dump(train_annotation, outfile)"
   ]
  },
  {
   "cell_type": "code",
   "execution_count": 69,
   "metadata": {},
   "outputs": [],
   "source": [
    "for img in val_imgs:\n",
    "    src = os.path.join(TREE_DIR, 'all_data', img)\n",
    "    copyfile(src, os.path.join(val_dir, img))\n",
    "\n",
    "with open(os.path.join(TREE_DIR, 'val', 'coco_annotations.json'), 'w') as outfile:\n",
    "    json.dump(val_annotation, outfile)"
   ]
  }
 ],
 "metadata": {
  "kernelspec": {
   "display_name": "Python 3",
   "language": "python",
   "name": "python3"
  },
  "language_info": {
   "codemirror_mode": {
    "name": "ipython",
    "version": 3
   },
   "file_extension": ".py",
   "mimetype": "text/x-python",
   "name": "python",
   "nbconvert_exporter": "python",
   "pygments_lexer": "ipython3",
   "version": "3.6.8"
  }
 },
 "nbformat": 4,
 "nbformat_minor": 2
}
